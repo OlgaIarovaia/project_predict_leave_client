{
 "cells": [
  {
   "cell_type": "markdown",
   "id": "094fcc8c",
   "metadata": {},
   "source": [
    "# Исходные данные\n"
   ]
  },
  {
   "cell_type": "markdown",
   "id": "313b6112",
   "metadata": {},
   "source": [
    " **Признаки**\n",
    " - RowNumber — индекс строки в данных\n",
    " - CustomerId — уникальный идентификатор клиента\n",
    " - Surname — фамилия\n",
    " - CreditScore — кредитный рейтинг\n",
    " - Geography — страна проживания\n",
    " - Gender — пол\n",
    " - Age — возраст\n",
    " - Tenure — сколько лет человек является клиентом банка\n",
    " - Balance — баланс на счёте\n",
    " - NumOfProducts — количество продуктов банка, используемых клиентом\n",
    " - HasCrCard — наличие кредитной карты\n",
    " - IsActiveMember — активность клиента\n",
    " - EstimatedSalary — предполагаемая зарплата\n",
    "\n",
    "**Целевой признак**\n",
    " - Exited — факт ухода клиента"
   ]
  },
  {
   "cell_type": "markdown",
   "id": "67e5342f",
   "metadata": {},
   "source": [
    "# Задачи"
   ]
  },
  {
   "cell_type": "markdown",
   "id": "f3d161b6",
   "metadata": {},
   "source": [
    " **Главная задача**\n",
    " - Спрогнозировать, уйдёт ли клиент из банка в ближайшее время. \n",
    "  - Построить модель с предельно большим значением F1-меры - 0.59 и выше. Дополнительно измерить AUC-ROC, сравнивая её значение с F1-мерой.\n",
    "\n",
    "**Ход действий**\n",
    "\n",
    " - Обучить модель вначале без учёта дисбаланса классов, затем учитывая дисбаланс."
   ]
  },
  {
   "cell_type": "markdown",
   "id": "8779dcf3",
   "metadata": {},
   "source": [
    "# Ход работы"
   ]
  },
  {
   "cell_type": "markdown",
   "id": "eb930887",
   "metadata": {},
   "source": [
    "## Обзор данных"
   ]
  },
  {
   "cell_type": "code",
   "execution_count": 1,
   "id": "5756b6a4",
   "metadata": {},
   "outputs": [],
   "source": [
    "# Импорт библиотек\n",
    "\n",
    "import pandas as pd\n",
    "import numpy as np\n",
    "from sklearn.model_selection import train_test_split\n",
    "from sklearn.preprocessing import StandardScaler\n",
    "from sklearn.linear_model import LogisticRegression\n",
    "from sklearn.tree import DecisionTreeClassifier\n",
    "from sklearn.ensemble import RandomForestClassifier\n",
    "from sklearn.metrics import f1_score, roc_auc_score \n",
    "from sklearn.utils import shuffle"
   ]
  },
  {
   "cell_type": "code",
   "execution_count": 2,
   "id": "53040382",
   "metadata": {},
   "outputs": [],
   "source": [
    "# Открытие файла\n",
    "\n",
    "try:\n",
    "    data = pd.read_csv('Churn.csv')\n",
    "except:\n",
    "    data = pd.read_csv('/datasets/Churn.csv')"
   ]
  },
  {
   "cell_type": "code",
   "execution_count": 3,
   "id": "b5106038",
   "metadata": {},
   "outputs": [
    {
     "data": {
      "text/html": [
       "<div>\n",
       "<style scoped>\n",
       "    .dataframe tbody tr th:only-of-type {\n",
       "        vertical-align: middle;\n",
       "    }\n",
       "\n",
       "    .dataframe tbody tr th {\n",
       "        vertical-align: top;\n",
       "    }\n",
       "\n",
       "    .dataframe thead th {\n",
       "        text-align: right;\n",
       "    }\n",
       "</style>\n",
       "<table border=\"1\" class=\"dataframe\">\n",
       "  <thead>\n",
       "    <tr style=\"text-align: right;\">\n",
       "      <th></th>\n",
       "      <th>RowNumber</th>\n",
       "      <th>CustomerId</th>\n",
       "      <th>Surname</th>\n",
       "      <th>CreditScore</th>\n",
       "      <th>Geography</th>\n",
       "      <th>Gender</th>\n",
       "      <th>Age</th>\n",
       "      <th>Tenure</th>\n",
       "      <th>Balance</th>\n",
       "      <th>NumOfProducts</th>\n",
       "      <th>HasCrCard</th>\n",
       "      <th>IsActiveMember</th>\n",
       "      <th>EstimatedSalary</th>\n",
       "      <th>Exited</th>\n",
       "    </tr>\n",
       "  </thead>\n",
       "  <tbody>\n",
       "    <tr>\n",
       "      <th>0</th>\n",
       "      <td>1</td>\n",
       "      <td>15634602</td>\n",
       "      <td>Hargrave</td>\n",
       "      <td>619</td>\n",
       "      <td>France</td>\n",
       "      <td>Female</td>\n",
       "      <td>42</td>\n",
       "      <td>2.0</td>\n",
       "      <td>0.00</td>\n",
       "      <td>1</td>\n",
       "      <td>1</td>\n",
       "      <td>1</td>\n",
       "      <td>101348.88</td>\n",
       "      <td>1</td>\n",
       "    </tr>\n",
       "    <tr>\n",
       "      <th>1</th>\n",
       "      <td>2</td>\n",
       "      <td>15647311</td>\n",
       "      <td>Hill</td>\n",
       "      <td>608</td>\n",
       "      <td>Spain</td>\n",
       "      <td>Female</td>\n",
       "      <td>41</td>\n",
       "      <td>1.0</td>\n",
       "      <td>83807.86</td>\n",
       "      <td>1</td>\n",
       "      <td>0</td>\n",
       "      <td>1</td>\n",
       "      <td>112542.58</td>\n",
       "      <td>0</td>\n",
       "    </tr>\n",
       "    <tr>\n",
       "      <th>2</th>\n",
       "      <td>3</td>\n",
       "      <td>15619304</td>\n",
       "      <td>Onio</td>\n",
       "      <td>502</td>\n",
       "      <td>France</td>\n",
       "      <td>Female</td>\n",
       "      <td>42</td>\n",
       "      <td>8.0</td>\n",
       "      <td>159660.80</td>\n",
       "      <td>3</td>\n",
       "      <td>1</td>\n",
       "      <td>0</td>\n",
       "      <td>113931.57</td>\n",
       "      <td>1</td>\n",
       "    </tr>\n",
       "    <tr>\n",
       "      <th>3</th>\n",
       "      <td>4</td>\n",
       "      <td>15701354</td>\n",
       "      <td>Boni</td>\n",
       "      <td>699</td>\n",
       "      <td>France</td>\n",
       "      <td>Female</td>\n",
       "      <td>39</td>\n",
       "      <td>1.0</td>\n",
       "      <td>0.00</td>\n",
       "      <td>2</td>\n",
       "      <td>0</td>\n",
       "      <td>0</td>\n",
       "      <td>93826.63</td>\n",
       "      <td>0</td>\n",
       "    </tr>\n",
       "    <tr>\n",
       "      <th>4</th>\n",
       "      <td>5</td>\n",
       "      <td>15737888</td>\n",
       "      <td>Mitchell</td>\n",
       "      <td>850</td>\n",
       "      <td>Spain</td>\n",
       "      <td>Female</td>\n",
       "      <td>43</td>\n",
       "      <td>2.0</td>\n",
       "      <td>125510.82</td>\n",
       "      <td>1</td>\n",
       "      <td>1</td>\n",
       "      <td>1</td>\n",
       "      <td>79084.10</td>\n",
       "      <td>0</td>\n",
       "    </tr>\n",
       "  </tbody>\n",
       "</table>\n",
       "</div>"
      ],
      "text/plain": [
       "   RowNumber  CustomerId   Surname  CreditScore Geography  Gender  Age  \\\n",
       "0          1    15634602  Hargrave          619    France  Female   42   \n",
       "1          2    15647311      Hill          608     Spain  Female   41   \n",
       "2          3    15619304      Onio          502    France  Female   42   \n",
       "3          4    15701354      Boni          699    France  Female   39   \n",
       "4          5    15737888  Mitchell          850     Spain  Female   43   \n",
       "\n",
       "   Tenure    Balance  NumOfProducts  HasCrCard  IsActiveMember  \\\n",
       "0     2.0       0.00              1          1               1   \n",
       "1     1.0   83807.86              1          0               1   \n",
       "2     8.0  159660.80              3          1               0   \n",
       "3     1.0       0.00              2          0               0   \n",
       "4     2.0  125510.82              1          1               1   \n",
       "\n",
       "   EstimatedSalary  Exited  \n",
       "0        101348.88       1  \n",
       "1        112542.58       0  \n",
       "2        113931.57       1  \n",
       "3         93826.63       0  \n",
       "4         79084.10       0  "
      ]
     },
     "execution_count": 3,
     "metadata": {},
     "output_type": "execute_result"
    }
   ],
   "source": [
    "# Изучение файла\n",
    "\n",
    "data.head()"
   ]
  },
  {
   "cell_type": "code",
   "execution_count": 4,
   "id": "8cdfec75",
   "metadata": {},
   "outputs": [
    {
     "name": "stdout",
     "output_type": "stream",
     "text": [
      "<class 'pandas.core.frame.DataFrame'>\n",
      "RangeIndex: 10000 entries, 0 to 9999\n",
      "Data columns (total 14 columns):\n",
      " #   Column           Non-Null Count  Dtype  \n",
      "---  ------           --------------  -----  \n",
      " 0   RowNumber        10000 non-null  int64  \n",
      " 1   CustomerId       10000 non-null  int64  \n",
      " 2   Surname          10000 non-null  object \n",
      " 3   CreditScore      10000 non-null  int64  \n",
      " 4   Geography        10000 non-null  object \n",
      " 5   Gender           10000 non-null  object \n",
      " 6   Age              10000 non-null  int64  \n",
      " 7   Tenure           9091 non-null   float64\n",
      " 8   Balance          10000 non-null  float64\n",
      " 9   NumOfProducts    10000 non-null  int64  \n",
      " 10  HasCrCard        10000 non-null  int64  \n",
      " 11  IsActiveMember   10000 non-null  int64  \n",
      " 12  EstimatedSalary  10000 non-null  float64\n",
      " 13  Exited           10000 non-null  int64  \n",
      "dtypes: float64(3), int64(8), object(3)\n",
      "memory usage: 1.1+ MB\n"
     ]
    }
   ],
   "source": [
    "# Изучение файла\n",
    "\n",
    "data.info()"
   ]
  },
  {
   "cell_type": "markdown",
   "id": "1b313e97",
   "metadata": {},
   "source": [
    "<div class=\"alert alert-block alert-warning\">\n",
    "\n",
    "    \n",
    "Для последующей работы:\n",
    "    \n",
    " - Необходима работа с пропусками в колонке Tenure\n",
    " - Приведение колонок к единому образцу\n",
    " - Устранение признаков, которые не важны для предсказания\n",
    " - Замена категориальных признаков для последующего обучения модели\n",
    " - Стандартизация для корректной работы логистической регрессии"
   ]
  },
  {
   "cell_type": "markdown",
   "id": "5b2524aa",
   "metadata": {},
   "source": [
    "## Общая предобработка "
   ]
  },
  {
   "cell_type": "markdown",
   "id": "8311606a",
   "metadata": {},
   "source": [
    "*В колонке tenure (сколько лет человек является клиентом банка) есть пропуски - 9 штук. Заменим их медианой.*"
   ]
  },
  {
   "cell_type": "code",
   "execution_count": 5,
   "id": "45496d6b",
   "metadata": {},
   "outputs": [
    {
     "data": {
      "text/html": [
       "<div>\n",
       "<style scoped>\n",
       "    .dataframe tbody tr th:only-of-type {\n",
       "        vertical-align: middle;\n",
       "    }\n",
       "\n",
       "    .dataframe tbody tr th {\n",
       "        vertical-align: top;\n",
       "    }\n",
       "\n",
       "    .dataframe thead th {\n",
       "        text-align: right;\n",
       "    }\n",
       "</style>\n",
       "<table border=\"1\" class=\"dataframe\">\n",
       "  <thead>\n",
       "    <tr style=\"text-align: right;\">\n",
       "      <th></th>\n",
       "      <th></th>\n",
       "      <th></th>\n",
       "      <th>RowNumber</th>\n",
       "      <th>CustomerId</th>\n",
       "      <th>CreditScore</th>\n",
       "      <th>Tenure</th>\n",
       "      <th>Balance</th>\n",
       "      <th>NumOfProducts</th>\n",
       "      <th>HasCrCard</th>\n",
       "      <th>IsActiveMember</th>\n",
       "      <th>EstimatedSalary</th>\n",
       "      <th>Exited</th>\n",
       "    </tr>\n",
       "    <tr>\n",
       "      <th>Geography</th>\n",
       "      <th>Gender</th>\n",
       "      <th>Age</th>\n",
       "      <th></th>\n",
       "      <th></th>\n",
       "      <th></th>\n",
       "      <th></th>\n",
       "      <th></th>\n",
       "      <th></th>\n",
       "      <th></th>\n",
       "      <th></th>\n",
       "      <th></th>\n",
       "      <th></th>\n",
       "    </tr>\n",
       "  </thead>\n",
       "  <tbody>\n",
       "    <tr>\n",
       "      <th rowspan=\"5\" valign=\"top\">France</th>\n",
       "      <th rowspan=\"5\" valign=\"top\">Female</th>\n",
       "      <th>18</th>\n",
       "      <td>3118.0</td>\n",
       "      <td>15682704.5</td>\n",
       "      <td>625.5</td>\n",
       "      <td>NaN</td>\n",
       "      <td>90830.905</td>\n",
       "      <td>1.0</td>\n",
       "      <td>1.0</td>\n",
       "      <td>0.5</td>\n",
       "      <td>40704.150</td>\n",
       "      <td>0.0</td>\n",
       "    </tr>\n",
       "    <tr>\n",
       "      <th>19</th>\n",
       "      <td>4331.0</td>\n",
       "      <td>15666652.0</td>\n",
       "      <td>648.0</td>\n",
       "      <td>3.0</td>\n",
       "      <td>0.000</td>\n",
       "      <td>2.0</td>\n",
       "      <td>1.0</td>\n",
       "      <td>1.0</td>\n",
       "      <td>122823.340</td>\n",
       "      <td>0.0</td>\n",
       "    </tr>\n",
       "    <tr>\n",
       "      <th>20</th>\n",
       "      <td>6206.0</td>\n",
       "      <td>15746419.0</td>\n",
       "      <td>657.5</td>\n",
       "      <td>6.0</td>\n",
       "      <td>62133.430</td>\n",
       "      <td>1.0</td>\n",
       "      <td>0.0</td>\n",
       "      <td>0.5</td>\n",
       "      <td>68120.360</td>\n",
       "      <td>0.0</td>\n",
       "    </tr>\n",
       "    <tr>\n",
       "      <th>21</th>\n",
       "      <td>5770.5</td>\n",
       "      <td>15709515.5</td>\n",
       "      <td>622.5</td>\n",
       "      <td>7.0</td>\n",
       "      <td>98683.140</td>\n",
       "      <td>2.0</td>\n",
       "      <td>1.0</td>\n",
       "      <td>1.0</td>\n",
       "      <td>97061.425</td>\n",
       "      <td>0.0</td>\n",
       "    </tr>\n",
       "    <tr>\n",
       "      <th>22</th>\n",
       "      <td>3928.0</td>\n",
       "      <td>15672284.5</td>\n",
       "      <td>662.0</td>\n",
       "      <td>6.0</td>\n",
       "      <td>95189.275</td>\n",
       "      <td>1.5</td>\n",
       "      <td>1.0</td>\n",
       "      <td>1.0</td>\n",
       "      <td>92792.365</td>\n",
       "      <td>0.0</td>\n",
       "    </tr>\n",
       "    <tr>\n",
       "      <th>...</th>\n",
       "      <th>...</th>\n",
       "      <th>...</th>\n",
       "      <td>...</td>\n",
       "      <td>...</td>\n",
       "      <td>...</td>\n",
       "      <td>...</td>\n",
       "      <td>...</td>\n",
       "      <td>...</td>\n",
       "      <td>...</td>\n",
       "      <td>...</td>\n",
       "      <td>...</td>\n",
       "      <td>...</td>\n",
       "    </tr>\n",
       "    <tr>\n",
       "      <th rowspan=\"5\" valign=\"top\">Spain</th>\n",
       "      <th rowspan=\"5\" valign=\"top\">Male</th>\n",
       "      <th>76</th>\n",
       "      <td>7671.0</td>\n",
       "      <td>15728122.5</td>\n",
       "      <td>593.5</td>\n",
       "      <td>5.5</td>\n",
       "      <td>127472.655</td>\n",
       "      <td>1.5</td>\n",
       "      <td>1.0</td>\n",
       "      <td>1.0</td>\n",
       "      <td>110754.175</td>\n",
       "      <td>0.0</td>\n",
       "    </tr>\n",
       "    <tr>\n",
       "      <th>77</th>\n",
       "      <td>2884.0</td>\n",
       "      <td>15688620.5</td>\n",
       "      <td>717.0</td>\n",
       "      <td>5.0</td>\n",
       "      <td>74541.850</td>\n",
       "      <td>1.0</td>\n",
       "      <td>1.0</td>\n",
       "      <td>1.0</td>\n",
       "      <td>112424.875</td>\n",
       "      <td>0.0</td>\n",
       "    </tr>\n",
       "    <tr>\n",
       "      <th>78</th>\n",
       "      <td>9737.0</td>\n",
       "      <td>15644103.0</td>\n",
       "      <td>659.0</td>\n",
       "      <td>2.0</td>\n",
       "      <td>151675.650</td>\n",
       "      <td>1.0</td>\n",
       "      <td>0.0</td>\n",
       "      <td>1.0</td>\n",
       "      <td>49978.670</td>\n",
       "      <td>0.0</td>\n",
       "    </tr>\n",
       "    <tr>\n",
       "      <th>80</th>\n",
       "      <td>3995.0</td>\n",
       "      <td>15763097.0</td>\n",
       "      <td>809.0</td>\n",
       "      <td>8.0</td>\n",
       "      <td>0.000</td>\n",
       "      <td>2.0</td>\n",
       "      <td>0.0</td>\n",
       "      <td>1.0</td>\n",
       "      <td>34164.050</td>\n",
       "      <td>0.0</td>\n",
       "    </tr>\n",
       "    <tr>\n",
       "      <th>88</th>\n",
       "      <td>2459.0</td>\n",
       "      <td>15813303.0</td>\n",
       "      <td>513.0</td>\n",
       "      <td>10.0</td>\n",
       "      <td>0.000</td>\n",
       "      <td>2.0</td>\n",
       "      <td>1.0</td>\n",
       "      <td>1.0</td>\n",
       "      <td>52952.240</td>\n",
       "      <td>0.0</td>\n",
       "    </tr>\n",
       "  </tbody>\n",
       "</table>\n",
       "<p>374 rows × 10 columns</p>\n",
       "</div>"
      ],
      "text/plain": [
       "                      RowNumber  CustomerId  CreditScore  Tenure     Balance  \\\n",
       "Geography Gender Age                                                           \n",
       "France    Female 18      3118.0  15682704.5        625.5     NaN   90830.905   \n",
       "                 19      4331.0  15666652.0        648.0     3.0       0.000   \n",
       "                 20      6206.0  15746419.0        657.5     6.0   62133.430   \n",
       "                 21      5770.5  15709515.5        622.5     7.0   98683.140   \n",
       "                 22      3928.0  15672284.5        662.0     6.0   95189.275   \n",
       "...                         ...         ...          ...     ...         ...   \n",
       "Spain     Male   76      7671.0  15728122.5        593.5     5.5  127472.655   \n",
       "                 77      2884.0  15688620.5        717.0     5.0   74541.850   \n",
       "                 78      9737.0  15644103.0        659.0     2.0  151675.650   \n",
       "                 80      3995.0  15763097.0        809.0     8.0       0.000   \n",
       "                 88      2459.0  15813303.0        513.0    10.0       0.000   \n",
       "\n",
       "                      NumOfProducts  HasCrCard  IsActiveMember  \\\n",
       "Geography Gender Age                                             \n",
       "France    Female 18             1.0        1.0             0.5   \n",
       "                 19             2.0        1.0             1.0   \n",
       "                 20             1.0        0.0             0.5   \n",
       "                 21             2.0        1.0             1.0   \n",
       "                 22             1.5        1.0             1.0   \n",
       "...                             ...        ...             ...   \n",
       "Spain     Male   76             1.5        1.0             1.0   \n",
       "                 77             1.0        1.0             1.0   \n",
       "                 78             1.0        0.0             1.0   \n",
       "                 80             2.0        0.0             1.0   \n",
       "                 88             2.0        1.0             1.0   \n",
       "\n",
       "                      EstimatedSalary  Exited  \n",
       "Geography Gender Age                           \n",
       "France    Female 18         40704.150     0.0  \n",
       "                 19        122823.340     0.0  \n",
       "                 20         68120.360     0.0  \n",
       "                 21         97061.425     0.0  \n",
       "                 22         92792.365     0.0  \n",
       "...                               ...     ...  \n",
       "Spain     Male   76        110754.175     0.0  \n",
       "                 77        112424.875     0.0  \n",
       "                 78         49978.670     0.0  \n",
       "                 80         34164.050     0.0  \n",
       "                 88         52952.240     0.0  \n",
       "\n",
       "[374 rows x 10 columns]"
      ]
     },
     "execution_count": 5,
     "metadata": {},
     "output_type": "execute_result"
    }
   ],
   "source": [
    "data.groupby(by=['Geography', 'Gender', 'Age']).median()"
   ]
  },
  {
   "cell_type": "code",
   "execution_count": 6,
   "id": "ea8c3c38",
   "metadata": {},
   "outputs": [
    {
     "name": "stdout",
     "output_type": "stream",
     "text": [
      "<class 'pandas.core.frame.DataFrame'>\n",
      "RangeIndex: 10000 entries, 0 to 9999\n",
      "Data columns (total 14 columns):\n",
      " #   Column           Non-Null Count  Dtype  \n",
      "---  ------           --------------  -----  \n",
      " 0   RowNumber        10000 non-null  int64  \n",
      " 1   CustomerId       10000 non-null  int64  \n",
      " 2   Surname          10000 non-null  object \n",
      " 3   CreditScore      10000 non-null  int64  \n",
      " 4   Geography        10000 non-null  object \n",
      " 5   Gender           10000 non-null  object \n",
      " 6   Age              10000 non-null  int64  \n",
      " 7   Tenure           10000 non-null  float64\n",
      " 8   Balance          10000 non-null  float64\n",
      " 9   NumOfProducts    10000 non-null  int64  \n",
      " 10  HasCrCard        10000 non-null  int64  \n",
      " 11  IsActiveMember   10000 non-null  int64  \n",
      " 12  EstimatedSalary  10000 non-null  float64\n",
      " 13  Exited           10000 non-null  int64  \n",
      "dtypes: float64(3), int64(8), object(3)\n",
      "memory usage: 1.1+ MB\n"
     ]
    }
   ],
   "source": [
    "for country in data['Geography'].unique():\n",
    "    data.loc[(data['Geography']==country)&(data['Tenure'].isna()), 'Tenure'] =\\\n",
    "    data.loc[data['Geography']==country, 'Tenure'].median()\n",
    "    \n",
    "data.info()    "
   ]
  },
  {
   "cell_type": "code",
   "execution_count": 7,
   "id": "a3c232fb",
   "metadata": {},
   "outputs": [
    {
     "data": {
      "text/plain": [
       "Index(['rownumber', 'customer_id', 'surname', 'creditscore', 'geography',\n",
       "       'gender', 'age', 'tenure', 'balance', 'num_of_products', 'has_cr_card',\n",
       "       'is_active_member', 'estimated_salary', 'exited'],\n",
       "      dtype='object')"
      ]
     },
     "execution_count": 7,
     "metadata": {},
     "output_type": "execute_result"
    }
   ],
   "source": [
    "# Единый формат написания\n",
    "\n",
    "data.columns = data.columns.str.lower()\n",
    "\n",
    "data = data.rename(columns = {'customerid':'customer_id',\n",
    "                              'numofproducts':'num_of_products',\n",
    "                              'hascrcard':'has_cr_card',\n",
    "                              'isactivemember':'is_active_member',\n",
    "                              'estimatedsalary':'estimated_salary'\n",
    "                             })\n",
    "\n",
    "data.columns"
   ]
  },
  {
   "cell_type": "markdown",
   "id": "7a1c471f",
   "metadata": {},
   "source": [
    "# Обучение модели"
   ]
  },
  {
   "cell_type": "markdown",
   "id": "100ed1e4",
   "metadata": {},
   "source": [
    "## Предобработка к обучению"
   ]
  },
  {
   "cell_type": "markdown",
   "id": "2275a33f",
   "metadata": {},
   "source": [
    "*Колонка с фамилией с очень маленькой вероятностью будет оказывать существенное влияние на прогноз. Кроме того, в датасете есть колонка с уникальным индентирикатором клиента*"
   ]
  },
  {
   "cell_type": "code",
   "execution_count": 8,
   "id": "d760bcc4",
   "metadata": {},
   "outputs": [
    {
     "data": {
      "text/plain": [
       "Index(['creditscore', 'geography', 'gender', 'age', 'tenure', 'balance',\n",
       "       'num_of_products', 'has_cr_card', 'is_active_member',\n",
       "       'estimated_salary', 'exited'],\n",
       "      dtype='object')"
      ]
     },
     "execution_count": 8,
     "metadata": {},
     "output_type": "execute_result"
    }
   ],
   "source": [
    "# Удаление колонки surname\n",
    "\n",
    "data = data.drop(['surname'], axis=1)\n",
    "\n",
    "# Удаление колонки rownumber\n",
    "\n",
    "data = data.drop(['rownumber'], axis=1)\n",
    "\n",
    "# Удаление колонки customer_id \n",
    "\n",
    "data = data.drop(['customer_id'], axis=1)\n",
    "\n",
    "data.columns"
   ]
  },
  {
   "cell_type": "markdown",
   "id": "32f0330a",
   "metadata": {},
   "source": [
    "*Колонки с категориальными признаками - geography и gender*\n",
    "\n",
    "*Используем технику прямого кодирования OHE*"
   ]
  },
  {
   "cell_type": "code",
   "execution_count": 9,
   "id": "c18a2a5d",
   "metadata": {
    "scrolled": true
   },
   "outputs": [
    {
     "data": {
      "text/html": [
       "<div>\n",
       "<style scoped>\n",
       "    .dataframe tbody tr th:only-of-type {\n",
       "        vertical-align: middle;\n",
       "    }\n",
       "\n",
       "    .dataframe tbody tr th {\n",
       "        vertical-align: top;\n",
       "    }\n",
       "\n",
       "    .dataframe thead th {\n",
       "        text-align: right;\n",
       "    }\n",
       "</style>\n",
       "<table border=\"1\" class=\"dataframe\">\n",
       "  <thead>\n",
       "    <tr style=\"text-align: right;\">\n",
       "      <th></th>\n",
       "      <th>creditscore</th>\n",
       "      <th>age</th>\n",
       "      <th>tenure</th>\n",
       "      <th>balance</th>\n",
       "      <th>num_of_products</th>\n",
       "      <th>has_cr_card</th>\n",
       "      <th>is_active_member</th>\n",
       "      <th>estimated_salary</th>\n",
       "      <th>exited</th>\n",
       "      <th>geography_Germany</th>\n",
       "      <th>geography_Spain</th>\n",
       "      <th>gender_Male</th>\n",
       "    </tr>\n",
       "  </thead>\n",
       "  <tbody>\n",
       "    <tr>\n",
       "      <th>0</th>\n",
       "      <td>619</td>\n",
       "      <td>42</td>\n",
       "      <td>2.0</td>\n",
       "      <td>0.00</td>\n",
       "      <td>1</td>\n",
       "      <td>1</td>\n",
       "      <td>1</td>\n",
       "      <td>101348.88</td>\n",
       "      <td>1</td>\n",
       "      <td>0</td>\n",
       "      <td>0</td>\n",
       "      <td>0</td>\n",
       "    </tr>\n",
       "    <tr>\n",
       "      <th>1</th>\n",
       "      <td>608</td>\n",
       "      <td>41</td>\n",
       "      <td>1.0</td>\n",
       "      <td>83807.86</td>\n",
       "      <td>1</td>\n",
       "      <td>0</td>\n",
       "      <td>1</td>\n",
       "      <td>112542.58</td>\n",
       "      <td>0</td>\n",
       "      <td>0</td>\n",
       "      <td>1</td>\n",
       "      <td>0</td>\n",
       "    </tr>\n",
       "    <tr>\n",
       "      <th>2</th>\n",
       "      <td>502</td>\n",
       "      <td>42</td>\n",
       "      <td>8.0</td>\n",
       "      <td>159660.80</td>\n",
       "      <td>3</td>\n",
       "      <td>1</td>\n",
       "      <td>0</td>\n",
       "      <td>113931.57</td>\n",
       "      <td>1</td>\n",
       "      <td>0</td>\n",
       "      <td>0</td>\n",
       "      <td>0</td>\n",
       "    </tr>\n",
       "    <tr>\n",
       "      <th>3</th>\n",
       "      <td>699</td>\n",
       "      <td>39</td>\n",
       "      <td>1.0</td>\n",
       "      <td>0.00</td>\n",
       "      <td>2</td>\n",
       "      <td>0</td>\n",
       "      <td>0</td>\n",
       "      <td>93826.63</td>\n",
       "      <td>0</td>\n",
       "      <td>0</td>\n",
       "      <td>0</td>\n",
       "      <td>0</td>\n",
       "    </tr>\n",
       "    <tr>\n",
       "      <th>4</th>\n",
       "      <td>850</td>\n",
       "      <td>43</td>\n",
       "      <td>2.0</td>\n",
       "      <td>125510.82</td>\n",
       "      <td>1</td>\n",
       "      <td>1</td>\n",
       "      <td>1</td>\n",
       "      <td>79084.10</td>\n",
       "      <td>0</td>\n",
       "      <td>0</td>\n",
       "      <td>1</td>\n",
       "      <td>0</td>\n",
       "    </tr>\n",
       "  </tbody>\n",
       "</table>\n",
       "</div>"
      ],
      "text/plain": [
       "   creditscore  age  tenure    balance  num_of_products  has_cr_card  \\\n",
       "0          619   42     2.0       0.00                1            1   \n",
       "1          608   41     1.0   83807.86                1            0   \n",
       "2          502   42     8.0  159660.80                3            1   \n",
       "3          699   39     1.0       0.00                2            0   \n",
       "4          850   43     2.0  125510.82                1            1   \n",
       "\n",
       "   is_active_member  estimated_salary  exited  geography_Germany  \\\n",
       "0                 1         101348.88       1                  0   \n",
       "1                 1         112542.58       0                  0   \n",
       "2                 0         113931.57       1                  0   \n",
       "3                 0          93826.63       0                  0   \n",
       "4                 1          79084.10       0                  0   \n",
       "\n",
       "   geography_Spain  gender_Male  \n",
       "0                0            0  \n",
       "1                1            0  \n",
       "2                0            0  \n",
       "3                0            0  \n",
       "4                1            0  "
      ]
     },
     "execution_count": 9,
     "metadata": {},
     "output_type": "execute_result"
    }
   ],
   "source": [
    "# Работа с категориальными переменными\n",
    "\n",
    "data = pd.get_dummies(data, drop_first=True)\n",
    "\n",
    "data.head()"
   ]
  },
  {
   "cell_type": "markdown",
   "id": "e4bdd2a6",
   "metadata": {},
   "source": [
    "**Теперь можно приступать к обучению модели**"
   ]
  },
  {
   "cell_type": "markdown",
   "id": "2962189c",
   "metadata": {},
   "source": [
    "## Подготовка "
   ]
  },
  {
   "cell_type": "code",
   "execution_count": 10,
   "id": "5d55ab0a",
   "metadata": {},
   "outputs": [],
   "source": [
    "# Разделим датасет по признакам и целевому признаку\n",
    "\n",
    "# Признаки для прогноза - Х\n",
    "X = data.drop(['exited'], axis=1)\n",
    "\n",
    "# Целевой признак у\n",
    "y = data['exited']"
   ]
  },
  {
   "cell_type": "code",
   "execution_count": 11,
   "id": "b222bcdf",
   "metadata": {},
   "outputs": [
    {
     "name": "stdout",
     "output_type": "stream",
     "text": [
      "train (6000, 11)\n",
      "valid (2000, 11)\n",
      "test (2000, 11)\n"
     ]
    }
   ],
   "source": [
    "# Разделим датасеты на тренировочную, валидационную и тестовую выборки как 3:1:1\n",
    "# Сначала на тестовую и общую, а затем общую на валидационную и тестовую\n",
    "\n",
    "X_train, X_common, y_train, y_common = train_test_split(X, y, train_size=0.6, random_state=123)\n",
    "X_valid, X_test, y_valid, y_test = train_test_split(X_common, y_common, test_size=0.5, random_state=123)\n",
    "\n",
    "# Проверим размерность полученных выборок\n",
    "\n",
    "print('train', X_train.shape)\n",
    "print('valid', X_valid.shape)\n",
    "print('test', X_test.shape)"
   ]
  },
  {
   "cell_type": "code",
   "execution_count": 12,
   "id": "5a515f5a",
   "metadata": {},
   "outputs": [],
   "source": [
    "# Стандартизируем данные\n",
    "\n",
    "scaler = StandardScaler() \n",
    "scaler.fit(X_train)\n",
    "X_train = scaler.transform(X_train)\n",
    "X_valid = scaler.transform(X_valid)"
   ]
  },
  {
   "cell_type": "markdown",
   "id": "1b40c518",
   "metadata": {},
   "source": [
    "## Поиск лучшей модели "
   ]
  },
  {
   "cell_type": "markdown",
   "id": "49d1a2a7",
   "metadata": {},
   "source": [
    "### LogisticRegression"
   ]
  },
  {
   "cell_type": "code",
   "execution_count": 13,
   "id": "4c129f30",
   "metadata": {},
   "outputs": [
    {
     "name": "stdout",
     "output_type": "stream",
     "text": [
      "Solver: saga iteration: 100 f1: 0.28190476190476194 Auc_roc: 0.7470289080921164\n"
     ]
    }
   ],
   "source": [
    "# подберем алгоритм и оптимальное кол-во итераций\n",
    "\n",
    "algorithm = ['newton-cg', 'lbfgs', 'liblinear', 'sag', 'saga']\n",
    "\n",
    "best_algorithm = None\n",
    "best_iteration = 0\n",
    "best_f1 = 0\n",
    "best_auc_roc = 0\n",
    "\n",
    "for a in algorithm:\n",
    "    for iteration in range(100,1000,50):\n",
    "        lr = LogisticRegression(solver=a, random_state=123, max_iter=iteration)\n",
    "        lr.fit(X_train, y_train)\n",
    "        y_predicted = lr.predict(X_valid)\n",
    "        proba_1 = lr.predict_proba(X_valid)[:,1]\n",
    "    \n",
    "        f1 = f1_score(y_valid, y_predicted)\n",
    "        auc_roc = roc_auc_score(y_valid, proba_1)\n",
    "        \n",
    "        if (f1 > best_f1) and (auc_roc > best_auc_roc):\n",
    "            best_f1 = f1\n",
    "            best_auc_roc = auc_roc\n",
    "            best_algorithm = a\n",
    "            best_iteration = iteration\n",
    "        \n",
    "print('Solver:', a, \n",
    "      'iteration:', best_iteration, \n",
    "      'f1:', best_f1, \n",
    "      'Auc_roc:', best_auc_roc)"
   ]
  },
  {
   "cell_type": "markdown",
   "id": "ba17dd9d",
   "metadata": {},
   "source": [
    "<div class=\"alert alert-block alert-warning\">\n",
    "\n",
    "\n",
    "Логистическая регрессия выдала максимальные показатели при алгоритме saga и глубине 100:\n",
    " - f1 = 0.28\n",
    " - auc_roc = 0.747"
   ]
  },
  {
   "cell_type": "markdown",
   "id": "9c82317f",
   "metadata": {},
   "source": [
    "### DecisionTreeClassifier"
   ]
  },
  {
   "cell_type": "code",
   "execution_count": 14,
   "id": "cf5a7ffe",
   "metadata": {},
   "outputs": [
    {
     "name": "stdout",
     "output_type": "stream",
     "text": [
      "criterion entropy depth 6 f1 0.5723076923076923 auc_roc 0.8432440846824408\n"
     ]
    }
   ],
   "source": [
    "# выберем оптимальное кол-во деревьев и оптимальную функцию\n",
    "\n",
    "criterion = ['gini', 'entropy']\n",
    "\n",
    "best_criterion = None\n",
    "best_depth = 0\n",
    "best_f1 = 0\n",
    "best_auc_roc = 0\n",
    "\n",
    "for c in criterion:\n",
    "    for depth in range(1,10,5):\n",
    "        dtc = DecisionTreeClassifier(criterion=c, max_depth=depth, random_state=123)\n",
    "        dtc.fit(X_train, y_train)\n",
    "        y_predicted = dtc.predict(X_valid)\n",
    "        proba_1 = dtc.predict_proba(X_valid)[:,1]\n",
    "    \n",
    "        f1 = f1_score(y_valid, y_predicted)\n",
    "        auc_roc = roc_auc_score(y_valid, proba_1)\n",
    "    \n",
    "        if (f1 > best_f1) and (auc_roc > best_auc_roc):\n",
    "            best_f1 = f1\n",
    "            best_auc_roc = auc_roc\n",
    "            best_criterion = c\n",
    "            best_depth = depth\n",
    "\n",
    "print('criterion', best_criterion, \n",
    "      'depth', best_depth, \n",
    "      'f1', best_f1, \n",
    "      'auc_roc', best_auc_roc)    "
   ]
  },
  {
   "cell_type": "markdown",
   "id": "f8c8743e",
   "metadata": {},
   "source": [
    "<div class=\"alert alert-block alert-warning\">\n",
    "\n",
    "\n",
    "Дерево решений выдало максимальные показатели при глубине 6 и функции entropy:\n",
    " - f1 = 0.57\n",
    " - auc_roc = 0.84"
   ]
  },
  {
   "cell_type": "markdown",
   "id": "0c488549",
   "metadata": {},
   "source": [
    "### RandomForestClassifier "
   ]
  },
  {
   "cell_type": "code",
   "execution_count": 15,
   "id": "168fb4f5",
   "metadata": {},
   "outputs": [
    {
     "name": "stdout",
     "output_type": "stream",
     "text": [
      "n_estimators 450 depth 10 f1 0.576923076923077 auc_roc 0.8696196370210694\n"
     ]
    }
   ],
   "source": [
    "# выберем оптимальное кол-во деревьев и оптимальную глубину \n",
    "\n",
    "best_est = 0\n",
    "best_depth = 0\n",
    "best_f1 = 0\n",
    "best_auc_roc = 0\n",
    "\n",
    "for n in range(100,500,50):\n",
    "    for depth in range(10,100,20):\n",
    "        rfc = RandomForestClassifier(n_estimators=n, random_state=123, criterion='entropy', max_depth=depth)\n",
    "        rfc.fit(X_train, y_train)\n",
    "        y_predicted = rfc.predict(X_valid)\n",
    "        proba_1 = rfc.predict_proba(X_valid)[:,1]\n",
    "    \n",
    "        f1 = f1_score(y_valid, y_predicted)\n",
    "        auc_roc = roc_auc_score(y_valid, proba_1)\n",
    "    \n",
    "        if (f1 > best_f1) and (auc_roc > best_auc_roc):\n",
    "            best_f1 = f1\n",
    "            best_auc_roc = auc_roc\n",
    "            best_est = n\n",
    "            best_depth = depth\n",
    "\n",
    "print('n_estimators', best_est, \n",
    "      'depth', best_depth,\n",
    "      'f1', best_f1, \n",
    "      'auc_roc', best_auc_roc)    "
   ]
  },
  {
   "cell_type": "markdown",
   "id": "8f1b82e3",
   "metadata": {},
   "source": [
    "<div class=\"alert alert-block alert-warning\">\n",
    "\n",
    "Случайный лес выдал максимальные показатели при кол-ве деревьев 450 и глубине 10:\n",
    " - f1 = 0.57\n",
    " - auc_rc = 0.86"
   ]
  },
  {
   "cell_type": "markdown",
   "id": "24a1a777",
   "metadata": {},
   "source": [
    "**Вывод**\n",
    "\n",
    "Самый лучший результат показала модель Случайного леса - ее будем ипользовать в дальнейшем и попробуем улучшить показатели"
   ]
  },
  {
   "cell_type": "markdown",
   "id": "268e5f27",
   "metadata": {},
   "source": [
    "# Дисбаланс классов"
   ]
  },
  {
   "cell_type": "code",
   "execution_count": 16,
   "id": "bb2ebafb",
   "metadata": {},
   "outputs": [
    {
     "data": {
      "text/plain": [
       "<AxesSubplot:title={'center':'Доля оставшихся и ушедших клиентов'}>"
      ]
     },
     "execution_count": 16,
     "metadata": {},
     "output_type": "execute_result"
    },
    {
     "data": {
      "image/png": "[encoded data removed]",
      "text/plain": [
       "<Figure size 432x288 with 1 Axes>"
      ]
     },
     "metadata": {
      "needs_background": "light"
     },
     "output_type": "display_data"
    }
   ],
   "source": [
    "# Оценим дисбаланс классов\n",
    "\n",
    "y.value_counts(normalize=True).plot(kind='bar', \n",
    "                                    title='Доля оставшихся и ушедших клиентов',\n",
    "                                    color='green',\n",
    "                                   )"
   ]
  },
  {
   "cell_type": "markdown",
   "id": "b9a7b552",
   "metadata": {},
   "source": [
    "Почти 80% клиентов осталось и 20% ушло. Дисбаланс достаточно большой - стоит обработать данные для лучшего обучения модели."
   ]
  },
  {
   "cell_type": "markdown",
   "id": "7b28e2a8",
   "metadata": {},
   "source": [
    "## Автоматический баланс классов"
   ]
  },
  {
   "cell_type": "markdown",
   "id": "57348959",
   "metadata": {},
   "source": [
    "Попробуем метод 'самообучения' модели, задав параметр class_weight=balanced "
   ]
  },
  {
   "cell_type": "markdown",
   "id": "78d03f3d",
   "metadata": {},
   "source": [
    "### LogisticRegression"
   ]
  },
  {
   "cell_type": "code",
   "execution_count": 17,
   "id": "e16efc35",
   "metadata": {},
   "outputs": [],
   "source": [
    "scaler = StandardScaler() \n",
    "scaler.fit(X_train)\n",
    "X_train = scaler.transform(X_train)\n",
    "X_valid = scaler.transform(X_valid)"
   ]
  },
  {
   "cell_type": "code",
   "execution_count": 18,
   "id": "aee73af0",
   "metadata": {},
   "outputs": [
    {
     "name": "stdout",
     "output_type": "stream",
     "text": [
      "Solver: saga iteration: 100 f1: 0.456140350877193 Auc_roc: 0.7494689963398677\n"
     ]
    }
   ],
   "source": [
    "# подберем алгоритм и оптимальное кол-во итераций при балансировании классов\n",
    "\n",
    "algorithm = ['newton-cg', 'lbfgs', 'liblinear', 'sag', 'saga']\n",
    "\n",
    "best_algorithm = None\n",
    "best_iteration = 0\n",
    "best_f1 = 0\n",
    "best_auc_roc = 0\n",
    "\n",
    "for a in algorithm:\n",
    "    for iteration in range(100,1000,50):\n",
    "        lr = LogisticRegression(solver=a, random_state=123, max_iter=iteration, class_weight='balanced')\n",
    "        lr.fit(X_train, y_train)\n",
    "        y_predicted = lr.predict(X_valid)\n",
    "        proba_1 = lr.predict_proba(X_valid)[:,1]\n",
    "    \n",
    "        f1 = f1_score(y_valid, y_predicted)\n",
    "        auc_roc = roc_auc_score(y_valid, proba_1)\n",
    "        \n",
    "        if (f1 > best_f1) and (auc_roc > best_auc_roc):\n",
    "            best_f1 = f1\n",
    "            best_auc_roc = auc_roc\n",
    "            best_algorithm = a\n",
    "            best_iteration = iteration\n",
    "        \n",
    "print('Solver:', a, \n",
    "      'iteration:', best_iteration, \n",
    "      'f1:', best_f1, \n",
    "      'Auc_roc:', best_auc_roc)"
   ]
  },
  {
   "cell_type": "markdown",
   "id": "285d8b54",
   "metadata": {},
   "source": [
    "<div class=\"alert alert-block alert-warning\">\n",
    "\n",
    "По сравнению с предыдущим обучением Логистической регрессии её показатели изменились:\n",
    " - f1-мера выросла с 0.28 до 0.45, \n",
    " - auc_roc почти не изменилась и осталась на уровне 0.74."
   ]
  },
  {
   "cell_type": "markdown",
   "id": "87a13f80",
   "metadata": {},
   "source": [
    "### DecisionTreeClassifier"
   ]
  },
  {
   "cell_type": "code",
   "execution_count": 19,
   "id": "5a747685",
   "metadata": {},
   "outputs": [
    {
     "name": "stdout",
     "output_type": "stream",
     "text": [
      "criterion gini depth 6 f1 0.5606617647058824 auc_roc 0.8365528064175586\n"
     ]
    }
   ],
   "source": [
    "# выберем оптимальное кол-во деревьев и оптимальную функцию при балансировании классов\n",
    "\n",
    "criterion = ['gini', 'entropy']\n",
    "\n",
    "best_criterion = None\n",
    "best_depth = 0\n",
    "best_f1 = 0\n",
    "best_auc_roc = 0\n",
    "\n",
    "for c in criterion:\n",
    "    for depth in range(1,10,5):\n",
    "        dtc = DecisionTreeClassifier(criterion=c, max_depth=depth, random_state=123, class_weight='balanced')\n",
    "        dtc.fit(X_train, y_train)\n",
    "        y_predicted = dtc.predict(X_valid)\n",
    "        proba_1 = dtc.predict_proba(X_valid)[:,1]\n",
    "    \n",
    "        f1 = f1_score(y_valid, y_predicted)\n",
    "        auc_roc = roc_auc_score(y_valid, proba_1)\n",
    "    \n",
    "        if (f1 > best_f1) and (auc_roc > best_auc_roc):\n",
    "            best_f1 = f1\n",
    "            best_auc_roc = auc_roc\n",
    "            best_criterion = c\n",
    "            best_depth = depth\n",
    "\n",
    "print('criterion', best_criterion, \n",
    "      'depth', best_depth, \n",
    "      'f1', best_f1, \n",
    "      'auc_roc', best_auc_roc)   "
   ]
  },
  {
   "cell_type": "markdown",
   "id": "aee0ed6f",
   "metadata": {},
   "source": [
    "<div class=\"alert alert-block alert-warning\">\n",
    "\n",
    "Показетели Дерева решений при балансировании классов изменились:\n",
    " - f1 уменьшилась с 0.57 до 0.56, \n",
    " - auc_roc уменьшилась с 0.84 до 0.83"
   ]
  },
  {
   "cell_type": "markdown",
   "id": "eeedbd55",
   "metadata": {},
   "source": [
    "### RandomForestClassifier  "
   ]
  },
  {
   "cell_type": "code",
   "execution_count": 20,
   "id": "f81d621a",
   "metadata": {},
   "outputs": [
    {
     "name": "stdout",
     "output_type": "stream",
     "text": [
      "n_estimators 100 depth 10 f1 0.6308068459657702 auc_roc 0.8654869746066465\n"
     ]
    }
   ],
   "source": [
    "# выберем оптимальное кол-во деревьев и оптимальную глубину при балансировании классов\n",
    "\n",
    "best_est = 0\n",
    "best_depth = 0\n",
    "best_f1 = 0\n",
    "best_auc_roc = 0\n",
    "\n",
    "for n in range(100,500,50):\n",
    "    for depth in range(10,100,20):\n",
    "        rfc = RandomForestClassifier(n_estimators=n, random_state=123, criterion='entropy', max_depth=depth, class_weight='balanced')\n",
    "        rfc.fit(X_train, y_train)\n",
    "        y_predicted = rfc.predict(X_valid)\n",
    "        proba_1 = rfc.predict_proba(X_valid)[:,1]\n",
    "    \n",
    "        f1 = f1_score(y_valid, y_predicted)\n",
    "        auc_roc = roc_auc_score(y_valid, proba_1)\n",
    "    \n",
    "        if (f1 > best_f1) and (auc_roc > best_auc_roc):\n",
    "            best_f1 = f1\n",
    "            best_auc_roc = auc_roc\n",
    "            best_est = n\n",
    "            best_depth = depth\n",
    "\n",
    "print('n_estimators', best_est, \n",
    "      'depth', best_depth,\n",
    "      'f1', best_f1, \n",
    "      'auc_roc', best_auc_roc)    "
   ]
  },
  {
   "cell_type": "markdown",
   "id": "e81c6cee",
   "metadata": {},
   "source": [
    "<div class=\"alert alert-block alert-warning\">\n",
    "\n",
    "Показатели Случайного леса изменились:\n",
    " - f1 увеличилась с 0.57 до 0.63\n",
    " - auc_rc практически не изменилось (0.86)"
   ]
  },
  {
   "cell_type": "markdown",
   "id": "0584c3e2",
   "metadata": {},
   "source": [
    "## Downsampling "
   ]
  },
  {
   "cell_type": "markdown",
   "id": "30d88e0d",
   "metadata": {},
   "source": [
    "Применим метод downsampling и сделаем соотношение классов близким к 1:1"
   ]
  },
  {
   "cell_type": "code",
   "execution_count": 21,
   "id": "eb95fd80",
   "metadata": {},
   "outputs": [],
   "source": [
    "X_train, X_common, y_train, y_common = train_test_split(X, y, train_size=0.6, random_state=123)\n",
    "X_valid, X_test, y_valid, y_test = train_test_split(X_common, y_common, test_size=0.5, random_state=123)"
   ]
  },
  {
   "cell_type": "code",
   "execution_count": 22,
   "id": "d9a604e2",
   "metadata": {},
   "outputs": [],
   "source": [
    "# Применим метод только у обучающей выборке\n",
    "\n",
    "X_zero = X_train[y_train==0]\n",
    "X_one = X_train[y_train==1]\n",
    "y_zero = y_train[y_train==0]\n",
    "y_one = y_train[y_train==1]\n",
    "\n",
    "X_train = pd.concat([X_zero.sample(frac=0.25, random_state=123)] + [X_one])\n",
    "y_train = pd.concat([y_zero.sample(frac=0.25, random_state=123)] + [y_one])\n",
    "    \n",
    "X_train, y_train = shuffle(X_train, y_train, random_state=123)"
   ]
  },
  {
   "cell_type": "code",
   "execution_count": 23,
   "id": "478ca225",
   "metadata": {},
   "outputs": [
    {
     "data": {
      "text/plain": [
       "<AxesSubplot:title={'center':'Доля оставшихся и ушедших клиентов'}>"
      ]
     },
     "execution_count": 23,
     "metadata": {},
     "output_type": "execute_result"
    },
    {
     "data": {
      "image/png": "[encoded data removed]",
      "text/plain": [
       "<Figure size 432x288 with 1 Axes>"
      ]
     },
     "metadata": {
      "needs_background": "light"
     },
     "output_type": "display_data"
    }
   ],
   "source": [
    "# Оценим полученный дисбаланс классов\n",
    "\n",
    "y_train.value_counts(normalize=True).plot(kind='bar', \n",
    "                                    title='Доля оставшихся и ушедших клиентов',\n",
    "                                    color='green',\n",
    "                                   )"
   ]
  },
  {
   "cell_type": "markdown",
   "id": "01a12c08",
   "metadata": {},
   "source": [
    "### LogisticRegression"
   ]
  },
  {
   "cell_type": "code",
   "execution_count": 24,
   "id": "39b44851",
   "metadata": {},
   "outputs": [],
   "source": [
    "scaler = StandardScaler() \n",
    "scaler.fit(X_train)\n",
    "X_train = scaler.transform(X_train)\n",
    "X_valid = scaler.transform(X_valid)"
   ]
  },
  {
   "cell_type": "code",
   "execution_count": 25,
   "id": "20a8742d",
   "metadata": {},
   "outputs": [
    {
     "name": "stdout",
     "output_type": "stream",
     "text": [
      "Solver: saga iteration: 100 f1: 0.4548551959114139 Auc_roc: 0.7476768589869209\n"
     ]
    }
   ],
   "source": [
    "# подберем алгоритм и оптимальное кол-во итераций\n",
    "\n",
    "algorithm = ['newton-cg', 'lbfgs', 'liblinear', 'sag', 'saga']\n",
    "\n",
    "best_algorithm = None\n",
    "best_iteration = 0\n",
    "best_f1 = 0\n",
    "best_auc_roc = 0\n",
    "\n",
    "for a in algorithm:\n",
    "    for iteration in range(100,1000,50):\n",
    "        lr = LogisticRegression(solver=a, random_state=123, max_iter=iteration)\n",
    "        lr.fit(X_train, y_train)\n",
    "        y_predicted = lr.predict(X_valid)\n",
    "        proba_1 = lr.predict_proba(X_valid)[:,1]\n",
    "    \n",
    "        f1 = f1_score(y_valid, y_predicted)\n",
    "        auc_roc = roc_auc_score(y_valid, proba_1)\n",
    "        \n",
    "        if (f1 > best_f1) and (auc_roc > best_auc_roc):\n",
    "            best_f1 = f1\n",
    "            best_auc_roc = auc_roc\n",
    "            best_algorithm = a\n",
    "            best_iteration = iteration\n",
    "        \n",
    "print('Solver:', a, \n",
    "      'iteration:', best_iteration, \n",
    "      'f1:', best_f1, \n",
    "      'Auc_roc:', best_auc_roc)"
   ]
  },
  {
   "cell_type": "markdown",
   "id": "20d8c603",
   "metadata": {},
   "source": [
    "<div class=\"alert alert-block alert-warning\">\n",
    "\n",
    " - f1-мера с 0.28 увеличилась до 0.45 при автоматической балансировке, и не изменилась при методе downsampling\n",
    " - auc_roc не изменилась и осталась на уровне 0.74 во всех методах"
   ]
  },
  {
   "cell_type": "markdown",
   "id": "fb68a06c",
   "metadata": {},
   "source": [
    "### DecisionTreeClassifier"
   ]
  },
  {
   "cell_type": "code",
   "execution_count": 26,
   "id": "7d368b02",
   "metadata": {},
   "outputs": [
    {
     "name": "stdout",
     "output_type": "stream",
     "text": [
      "criterion gini depth 6 f1 0.5666356011183598 auc_roc 0.838955756016461\n"
     ]
    }
   ],
   "source": [
    "# выберем оптимальное кол-во деревьев и оптимальную функцию\n",
    "\n",
    "criterion = ['gini', 'entropy']\n",
    "\n",
    "best_criterion = None\n",
    "best_depth = 0\n",
    "best_f1 = 0\n",
    "best_auc_roc = 0\n",
    "\n",
    "for c in criterion:\n",
    "    for depth in range(1,10,5):\n",
    "        dtc = DecisionTreeClassifier(criterion=c, max_depth=depth, random_state=123)\n",
    "        dtc.fit(X_train, y_train)\n",
    "        y_predicted = dtc.predict(X_valid)\n",
    "        proba_1 = dtc.predict_proba(X_valid)[:,1]\n",
    "    \n",
    "        f1 = f1_score(y_valid, y_predicted)\n",
    "        auc_roc = roc_auc_score(y_valid, proba_1)\n",
    "    \n",
    "        if (f1 > best_f1) and (auc_roc > best_auc_roc):\n",
    "            best_f1 = f1\n",
    "            best_auc_roc = auc_roc\n",
    "            best_criterion = c\n",
    "            best_depth = depth\n",
    "\n",
    "print('criterion', best_criterion, \n",
    "      'depth', best_depth, \n",
    "      'f1', best_f1, \n",
    "      'auc_roc', best_auc_roc)    "
   ]
  },
  {
   "cell_type": "markdown",
   "id": "b0513c75",
   "metadata": {},
   "source": [
    "<div class=\"alert alert-block alert-warning\">\n",
    "\n",
    " - f1-мера с  0.57 уменьшилась до 0.56 при автоматической балансировке, и осталась на уровне 0.56 при методе downsampling\n",
    " - auc_roc уменьшилась с 0.84 до 0.83 при автоматической балансировке, и осталась на уровне до 0.83 при методе downsampling"
   ]
  },
  {
   "cell_type": "markdown",
   "id": "721197bd",
   "metadata": {},
   "source": [
    "### RandomForestClassifier "
   ]
  },
  {
   "cell_type": "code",
   "execution_count": 27,
   "id": "9fab5092",
   "metadata": {},
   "outputs": [
    {
     "name": "stdout",
     "output_type": "stream",
     "text": [
      "criterion entropy n_estimators 200 depth 10 f1 0.6005719733079123 auc_roc 0.8705741793148788\n"
     ]
    }
   ],
   "source": [
    "# выберем оптимальное кол-во деревьев, глубину и функцию\n",
    "\n",
    "criterion = ['gini', 'entropy']\n",
    "\n",
    "best_criterion = None\n",
    "best_est = 0\n",
    "best_depth = 0\n",
    "best_f1 = 0\n",
    "best_auc_roc = 0\n",
    "\n",
    "for c in criterion:\n",
    "    for n in range(100,500,50):\n",
    "        for depth in range(5,50,5):\n",
    "            rfc = RandomForestClassifier(n_estimators=n, random_state=123, criterion=c, max_depth=depth)\n",
    "            rfc.fit(X_train, y_train)\n",
    "            y_predicted = rfc.predict(X_valid)\n",
    "            proba_1 = rfc.predict_proba(X_valid)[:,1]\n",
    "    \n",
    "            f1 = f1_score(y_valid, y_predicted)\n",
    "            auc_roc = roc_auc_score(y_valid, proba_1)\n",
    "    \n",
    "            if (f1 > best_f1) and (auc_roc > best_auc_roc):\n",
    "                best_f1 = f1\n",
    "                best_auc_roc = auc_roc\n",
    "                best_criterion = c\n",
    "                best_est = n\n",
    "                best_depth = depth\n",
    "\n",
    "print('criterion', best_criterion,\n",
    "      'n_estimators', best_est, \n",
    "      'depth', best_depth,\n",
    "      'f1', best_f1, \n",
    "      'auc_roc', best_auc_roc)    "
   ]
  },
  {
   "cell_type": "markdown",
   "id": "eefd920a",
   "metadata": {},
   "source": [
    "<div class=\"alert alert-block alert-warning\">\n",
    "\n",
    " - f1-мера увеличилась с 0.57 до 0.63 при автоматической балансировке, и немного уменьшилась до 0.60 при методе downsampling\n",
    " - auc_roc практически не изменилось при автоматической балансировке (0.86), и увеличилась до 0.87 при методе downsampling\n"
   ]
  },
  {
   "cell_type": "markdown",
   "id": "31b6dbf7",
   "metadata": {},
   "source": [
    "#  Итог"
   ]
  },
  {
   "cell_type": "markdown",
   "id": "57b4d9e8",
   "metadata": {},
   "source": [
    "Выведем алгоритм лучшего обучения - Случайный лес с окол-вом деревьев 200, глубиной 10, функцией entropy и использованием метода downsampling"
   ]
  },
  {
   "cell_type": "code",
   "execution_count": 28,
   "id": "51aa36b1",
   "metadata": {},
   "outputs": [],
   "source": [
    "X = data.drop(['exited'], axis=1)\n",
    "y = data['exited']"
   ]
  },
  {
   "cell_type": "code",
   "execution_count": 29,
   "id": "6a34cf9d",
   "metadata": {},
   "outputs": [],
   "source": [
    "X_train, X_common, y_train, y_common = train_test_split(X, y, train_size=0.6, random_state=123)\n",
    "X_valid, X_test, y_valid, y_test = train_test_split(X_common, y_common, test_size=0.5, random_state=123)"
   ]
  },
  {
   "cell_type": "code",
   "execution_count": 30,
   "id": "b5ea4791",
   "metadata": {},
   "outputs": [],
   "source": [
    "X_zero = X_train[y_train==0]\n",
    "X_one = X_train[y_train==1]\n",
    "y_zero = y_train[y_train==0]\n",
    "y_one = y_train[y_train==1]\n",
    "\n",
    "X_train = pd.concat([X_zero.sample(frac=0.25, random_state=123)] + [X_one])\n",
    "y_train = pd.concat([y_zero.sample(frac=0.25, random_state=123)] + [y_one])\n",
    "    \n",
    "X_train, y_train = shuffle(X_train, y_train, random_state=123)"
   ]
  },
  {
   "cell_type": "code",
   "execution_count": 31,
   "id": "715761da",
   "metadata": {},
   "outputs": [
    {
     "name": "stdout",
     "output_type": "stream",
     "text": [
      "0.6000000000000001 0.8705741793148787\n"
     ]
    }
   ],
   "source": [
    "# обучим модель на новых данных\n",
    "\n",
    "rfc = RandomForestClassifier(n_estimators=200, max_depth=10, random_state=123, criterion='entropy')\n",
    "rfc.fit(X_train, y_train)\n",
    "predicted_valid = rfc.predict(X_valid)\n",
    "proba_1 = rfc.predict_proba(X_valid)[:,1]\n",
    "\n",
    "f1 = f1_score(y_valid, predicted_valid)\n",
    "auc_roc = roc_auc_score(y_valid, proba_1)\n",
    "\n",
    "print(f1, auc_roc)"
   ]
  },
  {
   "cell_type": "code",
   "execution_count": 32,
   "id": "f783b2de",
   "metadata": {},
   "outputs": [
    {
     "name": "stdout",
     "output_type": "stream",
     "text": [
      "F1: 0.6080305927342257 AUC-ROC: 0.868448968957046\n"
     ]
    }
   ],
   "source": [
    "# проведем финальную проверку на старой (не измененной) тестовой выборке\n",
    "\n",
    "predicted_test = rfc.predict(X_test)\n",
    "proba_1_test = rfc.predict_proba(X_test)[:,1]\n",
    "\n",
    "f1 = f1_score(y_test, predicted_test)\n",
    "auc_roc = roc_auc_score(y_test, proba_1_test)\n",
    "\n",
    "print('F1:', f1, 'AUC-ROC:', auc_roc)"
   ]
  },
  {
   "cell_type": "markdown",
   "id": "c74fe04d",
   "metadata": {},
   "source": [
    "Тестовая выборка показала результаты F1 60% и  AUC-ROC в 86%, практически не отличаясь от показателей валидайионной выборки.\n",
    "Модель удачно обучена"
   ]
  },
  {
   "cell_type": "markdown",
   "id": "91cd1041",
   "metadata": {},
   "source": [
    "# Итоги проекта"
   ]
  },
  {
   "cell_type": "markdown",
   "id": "ccd71fd7",
   "metadata": {},
   "source": [
    "<div class=\"alert alert-block alert-warning\">\n",
    "\n",
    "\n",
    "- Лучший результат показала модель Случайного леса и с использованием downsampling как метода борьбы с дисбалансом классов, влияющих на качество обучения (переобучение модели). \n",
    "\n",
    "Итоговые показатели моделей с лучшими гиперпараметрами менялись при обычном обучении, автоматической балансировке модели и методе downsampling:\n",
    "\n",
    "- Логистическая регрессия:\n",
    "   - f1-мера - 0.28 - 0.45 - 0.45\n",
    "   - auc_roc - 0.74 - 0.74 - 0.74 \n",
    "\n",
    "- Дерево решений:\n",
    "    - f1-мера - 0.57 - 0.56 - 0.56 \n",
    "    - auc_roc - 0.84 - 0.83 - 0.83\n",
    "\n",
    "- Случайный лес:\n",
    "    - f1-мера - 0.57 - 0.63 - 0.60 \n",
    "    - auc_roc - 0.86 - 0.86 - 0.87\n",
    "    \n",
    "Наиболее сильные колебания показателей наблюдаются у логистической регрессии, самые стабильные результаты показывал Случайный лес   "
   ]
  }
 ],
 "metadata": {
  "kernelspec": {
   "display_name": "Python 3 (ipykernel)",
   "language": "python",
   "name": "python3"
  },
  "language_info": {
   "codemirror_mode": {
    "name": "ipython",
    "version": 3
   },
   "file_extension": ".py",
   "mimetype": "text/x-python",
   "name": "python",
   "nbconvert_exporter": "python",
   "pygments_lexer": "ipython3",
   "version": "3.9.12"
  },
  "toc": {
   "base_numbering": 1,
   "nav_menu": {},
   "number_sections": true,
   "sideBar": true,
   "skip_h1_title": false,
   "title_cell": "Table of Contents",
   "title_sidebar": "Contents",
   "toc_cell": false,
   "toc_position": {
    "height": "calc(100% - 180px)",
    "left": "10px",
    "top": "150px",
    "width": "264px"
   },
   "toc_section_display": true,
   "toc_window_display": true
  }
 },
 "nbformat": 4,
 "nbformat_minor": 5
}
